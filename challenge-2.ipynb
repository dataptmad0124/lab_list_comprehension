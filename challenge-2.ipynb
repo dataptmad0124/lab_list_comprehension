{
 "cells": [
  {
   "cell_type": "markdown",
   "metadata": {},
   "source": [
    "## Challenge 2: Sets\n",
    "\n",
    "There are a lot to learn about Python Sets and the information presented in the lesson is limited due to its length. To learn Python Sets in depth you are strongly encouraged to review the W3Schools tutorial on [Python Sets Examples and Methods](https://www.w3schools.com/python/python_sets.asp) before you work on this lab. Some difficult questions in this lab have their solutions in the W3Schools tutorial.\n",
    "\n",
    "#### First, import the Python `random` library."
   ]
  },
  {
   "cell_type": "code",
   "execution_count": 2,
   "metadata": {},
   "outputs": [],
   "source": [
    "import random"
   ]
  },
  {
   "cell_type": "markdown",
   "metadata": {},
   "source": [
    "#### In the cell below, create a list named `sample_list_1` with 80 random values. \n",
    "\n",
    "Requirements:\n",
    "\n",
    "* Each value is an integer falling between 0 and 100.\n",
    "* Each value in the list is unique.\n",
    "\n",
    "Print `sample_list_1` to review its values\n",
    "\n",
    "*Hint: use `random.sample` ([reference](https://docs.python.org/3/library/random.html#random.sample)).*"
   ]
  },
  {
   "cell_type": "code",
   "execution_count": 67,
   "metadata": {},
   "outputs": [
    {
     "name": "stdout",
     "output_type": "stream",
     "text": [
      "[48, 83, 34, 22, 53, 43, 66, 86, 16, 35, 94, 17, 20, 10, 1, 13, 28, 49, 85, 42, 96, 25, 15, 51, 76, 87, 99, 84, 39, 65, 4, 64, 11, 68, 40, 89, 88, 92, 74, 82, 59, 62, 44, 8, 75, 36, 56, 32, 41, 26, 30, 29, 9, 0, 80, 50, 78, 2, 57, 58, 81, 95, 69, 45, 73, 70, 93, 71, 47, 12, 31, 46, 97, 3, 7, 67, 55, 77, 21, 23]\n"
     ]
    }
   ],
   "source": [
    "# Your code here\n",
    "\n",
    "# random.sample se usa para elementos únicos...\n",
    "\n",
    "sample_list_1 = random.sample(range(0, 101), 80)\n",
    "\n",
    "print(sample_list_1)"
   ]
  },
  {
   "cell_type": "markdown",
   "metadata": {},
   "source": [
    "#### Convert `sample_list_1` to a set called `set1`. Print the length of the set. Is its length still 80?"
   ]
  },
  {
   "cell_type": "code",
   "execution_count": 68,
   "metadata": {},
   "outputs": [
    {
     "name": "stdout",
     "output_type": "stream",
     "text": [
      "La longitud de set1 es 80.\n"
     ]
    }
   ],
   "source": [
    "# Your code here\n",
    "\n",
    "set1 = set(sample_list_1)\n",
    "\n",
    "print(f\"La longitud de set1 es {len(set1)}.\")"
   ]
  },
  {
   "cell_type": "markdown",
   "metadata": {},
   "source": [
    "#### Create another list named `sample_list_2` with 80 random values.\n",
    "\n",
    "Requirements:\n",
    "\n",
    "* Each value is an integer falling between 0 and 100.\n",
    "* The values in the list don't have to be unique.\n",
    "\n",
    "*Hint: Use a FOR loop.*"
   ]
  },
  {
   "cell_type": "code",
   "execution_count": 69,
   "metadata": {},
   "outputs": [
    {
     "name": "stdout",
     "output_type": "stream",
     "text": [
      "[69, 99, 68, 28, 57, 6, 27, 77, 22, 15, 23, 39, 5, 25, 50, 4, 96, 18, 31, 3, 5, 11, 41, 75, 42, 13, 89, 53, 52, 5, 11, 69, 0, 77, 88, 93, 85, 29, 12, 90, 19, 13, 60, 66, 53, 1, 23, 42, 69, 1, 20, 100, 1, 84, 66, 97, 3, 64, 44, 58, 77, 58, 53, 47, 11, 33, 97, 71, 5, 57, 32, 50, 9, 42, 55, 89, 84, 87, 13, 4]\n"
     ]
    }
   ],
   "source": [
    "# Your code here\n",
    "\n",
    "sample_list_2 = [random.randint(0, 100) for i in range(80)]\n",
    "\n",
    "print(sample_list_2)\n",
    "\n",
    "#help(set)\n",
    "#help(random)"
   ]
  },
  {
   "cell_type": "markdown",
   "metadata": {},
   "source": [
    "#### Convert `sample_list_2` to a set called `set2`. Print the length of the set. Is its length still 80?"
   ]
  },
  {
   "cell_type": "code",
   "execution_count": 70,
   "metadata": {},
   "outputs": [
    {
     "name": "stdout",
     "output_type": "stream",
     "text": [
      "La longitud de set2 es 53.\n"
     ]
    }
   ],
   "source": [
    "# Your code here\n",
    "\n",
    "set2 = set(sample_list_2)\n",
    "\n",
    "print(f\"La longitud de set2 es {len(set2)}.\")"
   ]
  },
  {
   "cell_type": "markdown",
   "metadata": {},
   "source": [
    "#### Identify the elements present in `set1` but not in `set2`. Assign the elements to a new set named `set3`."
   ]
  },
  {
   "cell_type": "code",
   "execution_count": 71,
   "metadata": {},
   "outputs": [
    {
     "name": "stdout",
     "output_type": "stream",
     "text": [
      "Los elementos de set1 que no aparecen en set2 son: {2, 7, 8, 10, 16, 17, 21, 26, 30, 34, 35, 36, 40, 43, 45, 46, 48, 49, 51, 56, 59, 62, 65, 67, 70, 73, 74, 76, 78, 80, 81, 82, 83, 86, 92, 94, 95}\n",
      "\n",
      "\n",
      "{2, 7, 8, 10, 16, 17, 21, 26, 30, 34, 35, 36, 40, 43, 45, 46, 48, 49, 51, 56, 59, 62, 65, 67, 70, 73, 74, 76, 78, 80, 81, 82, 83, 86, 92, 94, 95}\n"
     ]
    }
   ],
   "source": [
    "# Your code here\n",
    "\n",
    "set3 = set1 - set2\n",
    "\n",
    "print(f\"Los elementos de set1 que no aparecen en set2 son: {set3}\")\n",
    "print(\"\\n\")\n",
    "print(set3)"
   ]
  },
  {
   "cell_type": "markdown",
   "metadata": {},
   "source": [
    "#### Identify the elements present in `set2` but not in `set1`. Assign the elements to a new set named `set4`."
   ]
  },
  {
   "cell_type": "code",
   "execution_count": 72,
   "metadata": {},
   "outputs": [
    {
     "name": "stdout",
     "output_type": "stream",
     "text": [
      "Los elementos de set2 que no aparecen en set1 son: {33, 100, 5, 6, 18, 19, 52, 90, 27, 60}\n",
      "\n",
      "\n",
      "{33, 100, 5, 6, 18, 19, 52, 90, 27, 60}\n"
     ]
    }
   ],
   "source": [
    "# Your code here\n",
    "\n",
    "set4 = set2 - set1\n",
    "\n",
    "print(f\"Los elementos de set2 que no aparecen en set1 son: {set4}\")\n",
    "print(\"\\n\")\n",
    "print(set4)"
   ]
  },
  {
   "cell_type": "markdown",
   "metadata": {},
   "source": [
    "#### Now Identify the elements shared between `set1` and `set2`. Assign the elements to a new set named `set5`."
   ]
  },
  {
   "cell_type": "code",
   "execution_count": 73,
   "metadata": {},
   "outputs": [
    {
     "name": "stdout",
     "output_type": "stream",
     "text": [
      "{0, 1, 3, 4, 9, 11, 12, 13, 15, 20, 22, 23, 25, 28, 29, 31, 32, 39, 41, 42, 44, 47, 50, 53, 55, 57, 58, 64, 66, 68, 69, 71, 75, 77, 84, 85, 87, 88, 89, 93, 96, 97, 99}\n"
     ]
    }
   ],
   "source": [
    "# Your code here\n",
    "\n",
    "set5 = set1.intersection(set2)\n",
    "\n",
    "print(set5)"
   ]
  },
  {
   "cell_type": "markdown",
   "metadata": {},
   "source": [
    "#### What is the relationship among the following values:\n",
    "\n",
    "* len(set1)\n",
    "* len(set2)\n",
    "* len(set3)\n",
    "* len(set4)\n",
    "* len(set5)\n",
    "\n",
    "Use a math formular to represent that relationship. Test your formular with Python code."
   ]
  },
  {
   "cell_type": "code",
   "execution_count": 74,
   "metadata": {},
   "outputs": [
    {
     "name": "stdout",
     "output_type": "stream",
     "text": [
      "La longitud de set1 es 80.\n",
      "La longitud de set2 es 53.\n",
      "La longitud de set3 es 37.\n",
      "La longitud de set4 es 10.\n",
      "La longitud de set5 es 43.\n"
     ]
    }
   ],
   "source": [
    "# Your code here\n",
    "\n",
    "print(f\"La longitud de set1 es {len(set1)}.\")\n",
    "print(f\"La longitud de set2 es {len(set2)}.\")\n",
    "print(f\"La longitud de set3 es {len(set3)}.\")\n",
    "print(f\"La longitud de set4 es {len(set4)}.\")\n",
    "print(f\"La longitud de set5 es {len(set5)}.\")\n",
    "\n",
    "\n"
   ]
  },
  {
   "cell_type": "markdown",
   "metadata": {},
   "source": [
    "#### Create an empty set called `set6`."
   ]
  },
  {
   "cell_type": "code",
   "execution_count": 75,
   "metadata": {},
   "outputs": [
    {
     "name": "stdout",
     "output_type": "stream",
     "text": [
      "el set 6 esta vacio set()\n"
     ]
    }
   ],
   "source": [
    "# Your code here\n",
    "\n",
    "set6 = set()\n",
    "\n",
    "print(f\"el set 6 esta vacio {set6}\")"
   ]
  },
  {
   "cell_type": "markdown",
   "metadata": {},
   "source": [
    "#### Add `set3` and `set5` to `set6` using the Python Set `update` method."
   ]
  },
  {
   "cell_type": "code",
   "execution_count": 76,
   "metadata": {},
   "outputs": [
    {
     "name": "stdout",
     "output_type": "stream",
     "text": [
      "{0, 1, 2, 3, 4, 7, 8, 9, 10, 11, 12, 13, 15, 16, 17, 20, 21, 22, 23, 25, 26, 28, 29, 30, 31, 32, 34, 35, 36, 39, 40, 41, 42, 43, 44, 45, 46, 47, 48, 49, 50, 51, 53, 55, 56, 57, 58, 59, 62, 64, 65, 66, 67, 68, 69, 70, 71, 73, 74, 75, 76, 77, 78, 80, 81, 82, 83, 84, 85, 86, 87, 88, 89, 92, 93, 94, 95, 96, 97, 99}\n"
     ]
    }
   ],
   "source": [
    "# Your code here\n",
    "\n",
    "set6 = set3.union(set5)\n",
    "\n",
    "print(set6)"
   ]
  },
  {
   "cell_type": "markdown",
   "metadata": {},
   "source": [
    "#### Check if `set1` and `set6` are equal."
   ]
  },
  {
   "cell_type": "code",
   "execution_count": 77,
   "metadata": {},
   "outputs": [
    {
     "name": "stdout",
     "output_type": "stream",
     "text": [
      "Son iguales\n"
     ]
    }
   ],
   "source": [
    "# Your code here\n",
    "\n",
    "if set1 == set6:\n",
    "    print(\"Son iguales\")\n",
    "else:\n",
    "    print(\"Son diferentes\")"
   ]
  },
  {
   "cell_type": "markdown",
   "metadata": {},
   "source": [
    "#### Check if `set1` contains `set2` using the Python Set `issubset` method. Then check if `set1` contains `set3`.*"
   ]
  },
  {
   "cell_type": "code",
   "execution_count": 78,
   "metadata": {},
   "outputs": [
    {
     "name": "stdout",
     "output_type": "stream",
     "text": [
      "set1 contiene a set2 : False\n",
      "set1 contiene a set3:  True\n"
     ]
    }
   ],
   "source": [
    "# Your code here\n",
    "\n",
    "print(\"set1 contiene a set2 :\",set2.issubset(set1))\n",
    "\n",
    "print(\"set1 contiene a set3: \",set3.issubset(set1))\n"
   ]
  },
  {
   "cell_type": "markdown",
   "metadata": {},
   "source": [
    "#### Using the Python Set `union` method, aggregate `set3`, `set4`, and `set5`. Then aggregate `set1` and `set2`. \n",
    "\n",
    "#### Check if the aggregated values are equal."
   ]
  },
  {
   "cell_type": "code",
   "execution_count": 79,
   "metadata": {},
   "outputs": [
    {
     "name": "stdout",
     "output_type": "stream",
     "text": [
      "{0, 1, 2, 3, 4, 5, 6, 7, 8, 9, 10, 11, 12, 13, 15, 16, 17, 18, 19, 20, 21, 22, 23, 25, 26, 27, 28, 29, 30, 31, 32, 33, 34, 35, 36, 39, 40, 41, 42, 43, 44, 45, 46, 47, 48, 49, 50, 51, 52, 53, 55, 56, 57, 58, 59, 60, 62, 64, 65, 66, 67, 68, 69, 70, 71, 73, 74, 75, 76, 77, 78, 80, 81, 82, 83, 84, 85, 86, 87, 88, 89, 90, 92, 93, 94, 95, 96, 97, 99, 100}\n",
      "\n",
      "\n",
      "{0, 1, 2, 3, 4, 5, 6, 7, 8, 9, 10, 11, 12, 13, 15, 16, 17, 18, 19, 20, 21, 22, 23, 25, 26, 27, 28, 29, 30, 31, 32, 33, 34, 35, 36, 39, 40, 41, 42, 43, 44, 45, 46, 47, 48, 49, 50, 51, 52, 53, 55, 56, 57, 58, 59, 60, 62, 64, 65, 66, 67, 68, 69, 70, 71, 73, 74, 75, 76, 77, 78, 80, 81, 82, 83, 84, 85, 86, 87, 88, 89, 90, 92, 93, 94, 95, 96, 97, 99, 100}\n",
      "\n",
      "\n",
      "set345 y set12 son iguales\n"
     ]
    }
   ],
   "source": [
    "# Your code here\n",
    "\n",
    "set345 = set3.union(set4).union(set5)\n",
    "print(set345)\n",
    "\n",
    "print(\"\\n\")\n",
    "\n",
    "set12 = set1.union(set2)\n",
    "print(set12)\n",
    "\n",
    "print(\"\\n\")\n",
    "\n",
    "if set345 == set12:\n",
    "    print(\"set345 y set12 son iguales\")\n",
    "else:\n",
    "    print(\"set345 y set12 son diferentes\")"
   ]
  },
  {
   "cell_type": "markdown",
   "metadata": {},
   "source": [
    "#### Using the `pop` method, remove the first element from `set1`."
   ]
  },
  {
   "cell_type": "code",
   "execution_count": 80,
   "metadata": {},
   "outputs": [
    {
     "name": "stdout",
     "output_type": "stream",
     "text": [
      "{0, 1, 2, 3, 4, 7, 8, 9, 10, 11, 12, 13, 15, 16, 17, 20, 21, 22, 23, 25, 26, 28, 29, 30, 31, 32, 34, 35, 36, 39, 40, 41, 42, 43, 44, 45, 46, 47, 48, 49, 50, 51, 53, 55, 56, 57, 58, 59, 62, 64, 65, 66, 67, 68, 69, 70, 71, 73, 74, 75, 76, 77, 78, 80, 81, 82, 83, 84, 85, 86, 87, 88, 89, 92, 93, 94, 95, 96, 97, 99}\n",
      "\n",
      "\n",
      "{1, 2, 3, 4, 7, 8, 9, 10, 11, 12, 13, 15, 16, 17, 20, 21, 22, 23, 25, 26, 28, 29, 30, 31, 32, 34, 35, 36, 39, 40, 41, 42, 43, 44, 45, 46, 47, 48, 49, 50, 51, 53, 55, 56, 57, 58, 59, 62, 64, 65, 66, 67, 68, 69, 70, 71, 73, 74, 75, 76, 77, 78, 80, 81, 82, 83, 84, 85, 86, 87, 88, 89, 92, 93, 94, 95, 96, 97, 99}\n"
     ]
    }
   ],
   "source": [
    "# Your code here\n",
    "\n",
    "print(set1)\n",
    "\n",
    "print(\"\\n\")\n",
    "\n",
    "set1.pop()\n",
    "print(set1)"
   ]
  },
  {
   "cell_type": "markdown",
   "metadata": {},
   "source": [
    "#### Remove every element in the following list from `set1` if they are present in the set. Print the remaining elements.\n",
    "\n",
    "```\n",
    "list_to_remove = [1, 9, 11, 19, 21, 29, 31, 39, 41, 49, 51, 59, 61, 69, 71, 79, 81, 89, 91, 99]\n",
    "```"
   ]
  },
  {
   "cell_type": "code",
   "execution_count": 81,
   "metadata": {},
   "outputs": [
    {
     "name": "stdout",
     "output_type": "stream",
     "text": [
      "El 1 ha sido eliminado de set1.\n",
      "El 9 ha sido eliminado de set1.\n",
      "El 11 ha sido eliminado de set1.\n",
      "\n",
      "El 21 ha sido eliminado de set1.\n",
      "El 29 ha sido eliminado de set1.\n",
      "El 31 ha sido eliminado de set1.\n",
      "El 39 ha sido eliminado de set1.\n",
      "El 41 ha sido eliminado de set1.\n",
      "El 49 ha sido eliminado de set1.\n",
      "El 51 ha sido eliminado de set1.\n",
      "El 59 ha sido eliminado de set1.\n",
      "\n",
      "El 69 ha sido eliminado de set1.\n",
      "El 71 ha sido eliminado de set1.\n",
      "\n",
      "El 81 ha sido eliminado de set1.\n",
      "El 89 ha sido eliminado de set1.\n",
      "\n",
      "El 99 ha sido eliminado de set1.\n",
      "\n",
      "\n",
      "set1 ahora esta compuesto por los siguientes elementos: \n",
      "{2, 3, 4, 7, 8, 10, 12, 13, 15, 16, 17, 20, 22, 23, 25, 26, 28, 30, 32, 34, 35, 36, 40, 42, 43, 44, 45, 46, 47, 48, 50, 53, 55, 56, 57, 58, 62, 64, 65, 66, 67, 68, 70, 73, 74, 75, 76, 77, 78, 80, 82, 83, 84, 85, 86, 87, 88, 92, 93, 94, 95, 96, 97}\n"
     ]
    }
   ],
   "source": [
    "# Your code here\n",
    "\n",
    "list_to_remove = [1, 9, 11, 19, 21, 29, 31, 39, 41, 49, 51, 59, 61, 69, 71, 79, 81, 89, 91, 99]\n",
    "\n",
    "for numero in list_to_remove:\n",
    "    \n",
    "    if numero in set1:\n",
    "        \n",
    "        set1.discard(numero)\n",
    "        print(f\"El {numero} ha sido eliminado de set1.\")\n",
    "    \n",
    "    else:\n",
    "        print(\"\")\n",
    "\n",
    "print(\"\\n\")\n",
    "print(f\"set1 ahora esta compuesto por los siguientes elementos: \\n{set1}\")"
   ]
  }
 ],
 "metadata": {
  "kernelspec": {
   "display_name": "Python 3 (ipykernel)",
   "language": "python",
   "name": "python3"
  },
  "language_info": {
   "codemirror_mode": {
    "name": "ipython",
    "version": 3
   },
   "file_extension": ".py",
   "mimetype": "text/x-python",
   "name": "python",
   "nbconvert_exporter": "python",
   "pygments_lexer": "ipython3",
   "version": "3.11.5"
  }
 },
 "nbformat": 4,
 "nbformat_minor": 2
}
